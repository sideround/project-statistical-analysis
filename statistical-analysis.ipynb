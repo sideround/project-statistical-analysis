{
 "cells": [
  {
   "cell_type": "markdown",
   "metadata": {},
   "source": [
    "## Imports"
   ]
  },
  {
   "cell_type": "code",
   "execution_count": 205,
   "metadata": {},
   "outputs": [],
   "source": [
    "import pandas as pd\n",
    "import numpy as np\n",
    "import seaborn as sns\n",
    "import matplotlib.pyplot as plt\n",
    "import datetime\n",
    "import scipy as sp\n",
    "import scipy.stats as stats\n",
    "from scipy.stats import t"
   ]
  },
  {
   "cell_type": "markdown",
   "metadata": {},
   "source": [
    "## Introduction"
   ]
  },
  {
   "cell_type": "markdown",
   "metadata": {},
   "source": [
    "The goal of this project is for you to practice statistical analysis using the iterative data analysis process. I have chosen two datasets based on trading assets. We are going to prove if there is a correlation in terms of parallel increase or decrease between crypto and standard stock. To do it we selected Bitcoin on the side of crypto and Dow Jones. \n",
    "\n",
    "**Bitcoin** - A decentralized digital currency without a central bank or single administrator.\n",
    "\n",
    "**Dow Jones** - Measures the stock performance of 30 large companies listed on stock exchanges in the United States.\n",
    "\n",
    "We thing both are good to measure to simplify what we want to archieve. \n",
    "\n",
    "----\n",
    "\n",
    "**[Spoiler]** I finally decided to do not use Dow Jones dataset and focus only on Bitcoin one."
   ]
  },
  {
   "cell_type": "markdown",
   "metadata": {},
   "source": [
    "## Data Exploration"
   ]
  },
  {
   "cell_type": "markdown",
   "metadata": {},
   "source": [
    "### Crypto"
   ]
  },
  {
   "cell_type": "code",
   "execution_count": 208,
   "metadata": {},
   "outputs": [],
   "source": [
    "crypto_path = \"data/bitcoin_prices.csv\"\n",
    "crypto = pd.read_csv(crypto_path, sep=\";\")"
   ]
  },
  {
   "cell_type": "markdown",
   "metadata": {},
   "source": [
    "Let's take a look into our imported dataset."
   ]
  },
  {
   "cell_type": "code",
   "execution_count": 211,
   "metadata": {},
   "outputs": [
    {
     "data": {
      "text/html": [
       "<div>\n",
       "<style scoped>\n",
       "    .dataframe tbody tr th:only-of-type {\n",
       "        vertical-align: middle;\n",
       "    }\n",
       "\n",
       "    .dataframe tbody tr th {\n",
       "        vertical-align: top;\n",
       "    }\n",
       "\n",
       "    .dataframe thead th {\n",
       "        text-align: right;\n",
       "    }\n",
       "</style>\n",
       "<table border=\"1\" class=\"dataframe\">\n",
       "  <thead>\n",
       "    <tr style=\"text-align: right;\">\n",
       "      <th></th>\n",
       "      <th>Date</th>\n",
       "      <th>Symbol</th>\n",
       "      <th>Open</th>\n",
       "      <th>High</th>\n",
       "      <th>Low</th>\n",
       "      <th>Close</th>\n",
       "      <th>Volume BTC</th>\n",
       "      <th>Volume USD</th>\n",
       "    </tr>\n",
       "  </thead>\n",
       "  <tbody>\n",
       "    <tr>\n",
       "      <td>0</td>\n",
       "      <td>2020-03-25</td>\n",
       "      <td>BTCUSD</td>\n",
       "      <td>6769.0</td>\n",
       "      <td>6769.0</td>\n",
       "      <td>6533.0</td>\n",
       "      <td>6721.5</td>\n",
       "      <td>2070.93</td>\n",
       "      <td>1.376608e+07</td>\n",
       "    </tr>\n",
       "    <tr>\n",
       "      <td>1</td>\n",
       "      <td>2020-03-24</td>\n",
       "      <td>BTCUSD</td>\n",
       "      <td>6505.1</td>\n",
       "      <td>6875.0</td>\n",
       "      <td>6404.0</td>\n",
       "      <td>6769.0</td>\n",
       "      <td>15188.15</td>\n",
       "      <td>1.009810e+08</td>\n",
       "    </tr>\n",
       "    <tr>\n",
       "      <td>2</td>\n",
       "      <td>2020-03-23</td>\n",
       "      <td>BTCUSD</td>\n",
       "      <td>5825.5</td>\n",
       "      <td>6615.0</td>\n",
       "      <td>5688.1</td>\n",
       "      <td>6505.1</td>\n",
       "      <td>16492.58</td>\n",
       "      <td>1.023196e+08</td>\n",
       "    </tr>\n",
       "    <tr>\n",
       "      <td>3</td>\n",
       "      <td>2020-03-22</td>\n",
       "      <td>BTCUSD</td>\n",
       "      <td>6196.3</td>\n",
       "      <td>6419.9</td>\n",
       "      <td>5748.7</td>\n",
       "      <td>5825.5</td>\n",
       "      <td>11834.26</td>\n",
       "      <td>7.158168e+07</td>\n",
       "    </tr>\n",
       "    <tr>\n",
       "      <td>4</td>\n",
       "      <td>2020-03-21</td>\n",
       "      <td>BTCUSD</td>\n",
       "      <td>6206.8</td>\n",
       "      <td>6469.9</td>\n",
       "      <td>5850.0</td>\n",
       "      <td>6196.3</td>\n",
       "      <td>11088.62</td>\n",
       "      <td>6.856397e+07</td>\n",
       "    </tr>\n",
       "  </tbody>\n",
       "</table>\n",
       "</div>"
      ],
      "text/plain": [
       "         Date  Symbol    Open    High     Low   Close  Volume BTC  \\\n",
       "0  2020-03-25  BTCUSD  6769.0  6769.0  6533.0  6721.5     2070.93   \n",
       "1  2020-03-24  BTCUSD  6505.1  6875.0  6404.0  6769.0    15188.15   \n",
       "2  2020-03-23  BTCUSD  5825.5  6615.0  5688.1  6505.1    16492.58   \n",
       "3  2020-03-22  BTCUSD  6196.3  6419.9  5748.7  5825.5    11834.26   \n",
       "4  2020-03-21  BTCUSD  6206.8  6469.9  5850.0  6196.3    11088.62   \n",
       "\n",
       "     Volume USD  \n",
       "0  1.376608e+07  \n",
       "1  1.009810e+08  \n",
       "2  1.023196e+08  \n",
       "3  7.158168e+07  \n",
       "4  6.856397e+07  "
      ]
     },
     "execution_count": 211,
     "metadata": {},
     "output_type": "execute_result"
    }
   ],
   "source": [
    "crypto.head()"
   ]
  },
  {
   "cell_type": "code",
   "execution_count": 212,
   "metadata": {},
   "outputs": [
    {
     "name": "stdout",
     "output_type": "stream",
     "text": [
      "<class 'pandas.core.frame.DataFrame'>\n",
      "RangeIndex: 2351 entries, 0 to 2350\n",
      "Data columns (total 8 columns):\n",
      "Date          2351 non-null object\n",
      "Symbol        2351 non-null object\n",
      "Open          2351 non-null float64\n",
      "High          2351 non-null float64\n",
      "Low           2351 non-null float64\n",
      "Close         2351 non-null float64\n",
      "Volume BTC    2351 non-null float64\n",
      "Volume USD    2351 non-null float64\n",
      "dtypes: float64(6), object(2)\n",
      "memory usage: 147.1+ KB\n"
     ]
    }
   ],
   "source": [
    "crypto.info()"
   ]
  },
  {
   "cell_type": "code",
   "execution_count": 213,
   "metadata": {},
   "outputs": [
    {
     "data": {
      "text/plain": [
       "Date           object\n",
       "Symbol         object\n",
       "Open          float64\n",
       "High          float64\n",
       "Low           float64\n",
       "Close         float64\n",
       "Volume BTC    float64\n",
       "Volume USD    float64\n",
       "dtype: object"
      ]
     },
     "execution_count": 213,
     "metadata": {},
     "output_type": "execute_result"
    }
   ],
   "source": [
    "crypto.dtypes"
   ]
  },
  {
   "cell_type": "markdown",
   "metadata": {},
   "source": [
    "Pretty good dataset! We do have all we need related to Bitcoin trade info. Date, volume, and deep information about price (High, Low, Open, Close) from each day."
   ]
  },
  {
   "cell_type": "markdown",
   "metadata": {},
   "source": [
    "Let's go deeper. Do we have any null value in our entire dataset? Very important information as we should have all data, if not, we should remove the row, as we can not have partial information here."
   ]
  },
  {
   "cell_type": "code",
   "execution_count": 214,
   "metadata": {},
   "outputs": [
    {
     "data": {
      "text/plain": [
       "Date          False\n",
       "Symbol        False\n",
       "Open          False\n",
       "High          False\n",
       "Low           False\n",
       "Close         False\n",
       "Volume BTC    False\n",
       "Volume USD    False\n",
       "dtype: bool"
      ]
     },
     "execution_count": 214,
     "metadata": {},
     "output_type": "execute_result"
    }
   ],
   "source": [
    "crypto.isnull().any()"
   ]
  },
  {
   "cell_type": "markdown",
   "metadata": {},
   "source": [
    "Good! No nulls. Our dataset is sorted, what is the first date from we do have info? On other words, when bitcoin start trading."
   ]
  },
  {
   "cell_type": "code",
   "execution_count": 215,
   "metadata": {},
   "outputs": [
    {
     "data": {
      "text/plain": [
       "'2013-10-06'"
      ]
     },
     "execution_count": 215,
     "metadata": {},
     "output_type": "execute_result"
    }
   ],
   "source": [
    "crypto[\"Date\"].min()"
   ]
  },
  {
   "cell_type": "markdown",
   "metadata": {},
   "source": [
    "So Bitcoin started trading on 2013. To handle better the visualization of the price, let's decouple into separate columns the year, month and day. "
   ]
  },
  {
   "cell_type": "code",
   "execution_count": 216,
   "metadata": {},
   "outputs": [],
   "source": [
    "crypto['year'] = pd.DatetimeIndex(crypto['Date']).year\n",
    "crypto['month'] = pd.DatetimeIndex(crypto['Date']).month\n",
    "crypto['day'] = pd.DatetimeIndex(crypto['Date']).day"
   ]
  },
  {
   "cell_type": "markdown",
   "metadata": {},
   "source": [
    "We also should create a new column to homogenize our price. We are going to calculate the mean from the highest and lowest price for each day."
   ]
  },
  {
   "cell_type": "code",
   "execution_count": 217,
   "metadata": {},
   "outputs": [],
   "source": [
    "def calculate_mean(high_price, low_price):\n",
    "    return (high_price + low_price) / 2"
   ]
  },
  {
   "cell_type": "code",
   "execution_count": 218,
   "metadata": {},
   "outputs": [],
   "source": [
    "crypto[\"AveragePrice\"] = crypto.apply(lambda x: calculate_mean(x.High, x.Low), axis=1)"
   ]
  },
  {
   "cell_type": "markdown",
   "metadata": {},
   "source": [
    "Let's see what is the result of our changes!"
   ]
  },
  {
   "cell_type": "code",
   "execution_count": 219,
   "metadata": {},
   "outputs": [
    {
     "data": {
      "text/html": [
       "<div>\n",
       "<style scoped>\n",
       "    .dataframe tbody tr th:only-of-type {\n",
       "        vertical-align: middle;\n",
       "    }\n",
       "\n",
       "    .dataframe tbody tr th {\n",
       "        vertical-align: top;\n",
       "    }\n",
       "\n",
       "    .dataframe thead th {\n",
       "        text-align: right;\n",
       "    }\n",
       "</style>\n",
       "<table border=\"1\" class=\"dataframe\">\n",
       "  <thead>\n",
       "    <tr style=\"text-align: right;\">\n",
       "      <th></th>\n",
       "      <th>Date</th>\n",
       "      <th>Symbol</th>\n",
       "      <th>Open</th>\n",
       "      <th>High</th>\n",
       "      <th>Low</th>\n",
       "      <th>Close</th>\n",
       "      <th>Volume BTC</th>\n",
       "      <th>Volume USD</th>\n",
       "      <th>year</th>\n",
       "      <th>month</th>\n",
       "      <th>day</th>\n",
       "      <th>AveragePrice</th>\n",
       "    </tr>\n",
       "  </thead>\n",
       "  <tbody>\n",
       "    <tr>\n",
       "      <td>0</td>\n",
       "      <td>2020-03-25</td>\n",
       "      <td>BTCUSD</td>\n",
       "      <td>6769.0</td>\n",
       "      <td>6769.0</td>\n",
       "      <td>6533.0</td>\n",
       "      <td>6721.5</td>\n",
       "      <td>2070.93</td>\n",
       "      <td>1.376608e+07</td>\n",
       "      <td>2020</td>\n",
       "      <td>3</td>\n",
       "      <td>25</td>\n",
       "      <td>6651.00</td>\n",
       "    </tr>\n",
       "    <tr>\n",
       "      <td>1</td>\n",
       "      <td>2020-03-24</td>\n",
       "      <td>BTCUSD</td>\n",
       "      <td>6505.1</td>\n",
       "      <td>6875.0</td>\n",
       "      <td>6404.0</td>\n",
       "      <td>6769.0</td>\n",
       "      <td>15188.15</td>\n",
       "      <td>1.009810e+08</td>\n",
       "      <td>2020</td>\n",
       "      <td>3</td>\n",
       "      <td>24</td>\n",
       "      <td>6639.50</td>\n",
       "    </tr>\n",
       "    <tr>\n",
       "      <td>2</td>\n",
       "      <td>2020-03-23</td>\n",
       "      <td>BTCUSD</td>\n",
       "      <td>5825.5</td>\n",
       "      <td>6615.0</td>\n",
       "      <td>5688.1</td>\n",
       "      <td>6505.1</td>\n",
       "      <td>16492.58</td>\n",
       "      <td>1.023196e+08</td>\n",
       "      <td>2020</td>\n",
       "      <td>3</td>\n",
       "      <td>23</td>\n",
       "      <td>6151.55</td>\n",
       "    </tr>\n",
       "    <tr>\n",
       "      <td>3</td>\n",
       "      <td>2020-03-22</td>\n",
       "      <td>BTCUSD</td>\n",
       "      <td>6196.3</td>\n",
       "      <td>6419.9</td>\n",
       "      <td>5748.7</td>\n",
       "      <td>5825.5</td>\n",
       "      <td>11834.26</td>\n",
       "      <td>7.158168e+07</td>\n",
       "      <td>2020</td>\n",
       "      <td>3</td>\n",
       "      <td>22</td>\n",
       "      <td>6084.30</td>\n",
       "    </tr>\n",
       "    <tr>\n",
       "      <td>4</td>\n",
       "      <td>2020-03-21</td>\n",
       "      <td>BTCUSD</td>\n",
       "      <td>6206.8</td>\n",
       "      <td>6469.9</td>\n",
       "      <td>5850.0</td>\n",
       "      <td>6196.3</td>\n",
       "      <td>11088.62</td>\n",
       "      <td>6.856397e+07</td>\n",
       "      <td>2020</td>\n",
       "      <td>3</td>\n",
       "      <td>21</td>\n",
       "      <td>6159.95</td>\n",
       "    </tr>\n",
       "  </tbody>\n",
       "</table>\n",
       "</div>"
      ],
      "text/plain": [
       "         Date  Symbol    Open    High     Low   Close  Volume BTC  \\\n",
       "0  2020-03-25  BTCUSD  6769.0  6769.0  6533.0  6721.5     2070.93   \n",
       "1  2020-03-24  BTCUSD  6505.1  6875.0  6404.0  6769.0    15188.15   \n",
       "2  2020-03-23  BTCUSD  5825.5  6615.0  5688.1  6505.1    16492.58   \n",
       "3  2020-03-22  BTCUSD  6196.3  6419.9  5748.7  5825.5    11834.26   \n",
       "4  2020-03-21  BTCUSD  6206.8  6469.9  5850.0  6196.3    11088.62   \n",
       "\n",
       "     Volume USD  year  month  day  AveragePrice  \n",
       "0  1.376608e+07  2020      3   25       6651.00  \n",
       "1  1.009810e+08  2020      3   24       6639.50  \n",
       "2  1.023196e+08  2020      3   23       6151.55  \n",
       "3  7.158168e+07  2020      3   22       6084.30  \n",
       "4  6.856397e+07  2020      3   21       6159.95  "
      ]
     },
     "execution_count": 219,
     "metadata": {},
     "output_type": "execute_result"
    }
   ],
   "source": [
    "crypto.head()"
   ]
  },
  {
   "cell_type": "markdown",
   "metadata": {},
   "source": [
    "To finalize, we remove columns we are not going to use. "
   ]
  },
  {
   "cell_type": "code",
   "execution_count": 220,
   "metadata": {},
   "outputs": [],
   "source": [
    "crypto.drop('Symbol', axis=1, inplace=True)"
   ]
  },
  {
   "cell_type": "markdown",
   "metadata": {},
   "source": [
    "### Stock "
   ]
  },
  {
   "cell_type": "markdown",
   "metadata": {},
   "source": [
    "Our stock dataset is based on Dow Jonex index.\n",
    "[Update] We are not going to use this dataset, so our exploration here will be soft. "
   ]
  },
  {
   "cell_type": "code",
   "execution_count": 229,
   "metadata": {},
   "outputs": [],
   "source": [
    "stock_path = \"data/dow_jones_indices.csv\"\n",
    "stock = pd.read_csv(stock_path, sep=\";\")"
   ]
  },
  {
   "cell_type": "code",
   "execution_count": 230,
   "metadata": {},
   "outputs": [
    {
     "data": {
      "text/html": [
       "<div>\n",
       "<style scoped>\n",
       "    .dataframe tbody tr th:only-of-type {\n",
       "        vertical-align: middle;\n",
       "    }\n",
       "\n",
       "    .dataframe tbody tr th {\n",
       "        vertical-align: top;\n",
       "    }\n",
       "\n",
       "    .dataframe thead th {\n",
       "        text-align: right;\n",
       "    }\n",
       "</style>\n",
       "<table border=\"1\" class=\"dataframe\">\n",
       "  <thead>\n",
       "    <tr style=\"text-align: right;\">\n",
       "      <th></th>\n",
       "      <th>Date</th>\n",
       "      <th>Dow Jones Industrial Average TR</th>\n",
       "      <th>Dow Jones Industrial Average NTR</th>\n",
       "      <th>Dow Jones Industrial Average</th>\n",
       "    </tr>\n",
       "  </thead>\n",
       "  <tbody>\n",
       "    <tr>\n",
       "      <td>0</td>\n",
       "      <td>3/25/15</td>\n",
       "      <td>35644,4</td>\n",
       "      <td>31833,34</td>\n",
       "      <td>17718,54</td>\n",
       "    </tr>\n",
       "    <tr>\n",
       "      <td>1</td>\n",
       "      <td>3/26/15</td>\n",
       "      <td>35563,32</td>\n",
       "      <td>31760,93</td>\n",
       "      <td>17678,23</td>\n",
       "    </tr>\n",
       "    <tr>\n",
       "      <td>2</td>\n",
       "      <td>3/27/15</td>\n",
       "      <td>35632,59</td>\n",
       "      <td>31822,79</td>\n",
       "      <td>17712,66</td>\n",
       "    </tr>\n",
       "    <tr>\n",
       "      <td>3</td>\n",
       "      <td>3/30/15</td>\n",
       "      <td>36162,97</td>\n",
       "      <td>32296,47</td>\n",
       "      <td>17976,31</td>\n",
       "    </tr>\n",
       "    <tr>\n",
       "      <td>4</td>\n",
       "      <td>3/31/15</td>\n",
       "      <td>35766,56</td>\n",
       "      <td>31940,75</td>\n",
       "      <td>17776,12</td>\n",
       "    </tr>\n",
       "  </tbody>\n",
       "</table>\n",
       "</div>"
      ],
      "text/plain": [
       "      Date Dow Jones Industrial Average TR Dow Jones Industrial Average NTR  \\\n",
       "0  3/25/15                         35644,4                         31833,34   \n",
       "1  3/26/15                        35563,32                         31760,93   \n",
       "2  3/27/15                        35632,59                         31822,79   \n",
       "3  3/30/15                        36162,97                         32296,47   \n",
       "4  3/31/15                        35766,56                         31940,75   \n",
       "\n",
       "  Dow Jones Industrial Average  \n",
       "0                     17718,54  \n",
       "1                     17678,23  \n",
       "2                     17712,66  \n",
       "3                     17976,31  \n",
       "4                     17776,12  "
      ]
     },
     "execution_count": 230,
     "metadata": {},
     "output_type": "execute_result"
    }
   ],
   "source": [
    "stock.head()"
   ]
  },
  {
   "cell_type": "markdown",
   "metadata": {},
   "source": [
    "- Dow Jones Industrial Average: Average price. \n",
    "- Dow Jones Industrial Average TR: Total Return. Average + Capital Gains + Dividends reinvested.\n",
    "- Dow Jones Industrial Average NTR: Net Total Return. Average + Capitsl Gaines + Minimum net dividens reinvested."
   ]
  },
  {
   "cell_type": "code",
   "execution_count": 231,
   "metadata": {},
   "outputs": [],
   "source": [
    "stock.columns = ['date', 'tr_price_average', 'ntr_price_average', 'price_average']"
   ]
  },
  {
   "cell_type": "code",
   "execution_count": 232,
   "metadata": {},
   "outputs": [
    {
     "data": {
      "text/html": [
       "<div>\n",
       "<style scoped>\n",
       "    .dataframe tbody tr th:only-of-type {\n",
       "        vertical-align: middle;\n",
       "    }\n",
       "\n",
       "    .dataframe tbody tr th {\n",
       "        vertical-align: top;\n",
       "    }\n",
       "\n",
       "    .dataframe thead th {\n",
       "        text-align: right;\n",
       "    }\n",
       "</style>\n",
       "<table border=\"1\" class=\"dataframe\">\n",
       "  <thead>\n",
       "    <tr style=\"text-align: right;\">\n",
       "      <th></th>\n",
       "      <th>date</th>\n",
       "      <th>tr_price_average</th>\n",
       "      <th>ntr_price_average</th>\n",
       "      <th>price_average</th>\n",
       "    </tr>\n",
       "  </thead>\n",
       "  <tbody>\n",
       "    <tr>\n",
       "      <td>0</td>\n",
       "      <td>3/25/15</td>\n",
       "      <td>35644,4</td>\n",
       "      <td>31833,34</td>\n",
       "      <td>17718,54</td>\n",
       "    </tr>\n",
       "    <tr>\n",
       "      <td>1</td>\n",
       "      <td>3/26/15</td>\n",
       "      <td>35563,32</td>\n",
       "      <td>31760,93</td>\n",
       "      <td>17678,23</td>\n",
       "    </tr>\n",
       "    <tr>\n",
       "      <td>2</td>\n",
       "      <td>3/27/15</td>\n",
       "      <td>35632,59</td>\n",
       "      <td>31822,79</td>\n",
       "      <td>17712,66</td>\n",
       "    </tr>\n",
       "    <tr>\n",
       "      <td>3</td>\n",
       "      <td>3/30/15</td>\n",
       "      <td>36162,97</td>\n",
       "      <td>32296,47</td>\n",
       "      <td>17976,31</td>\n",
       "    </tr>\n",
       "    <tr>\n",
       "      <td>4</td>\n",
       "      <td>3/31/15</td>\n",
       "      <td>35766,56</td>\n",
       "      <td>31940,75</td>\n",
       "      <td>17776,12</td>\n",
       "    </tr>\n",
       "  </tbody>\n",
       "</table>\n",
       "</div>"
      ],
      "text/plain": [
       "      date tr_price_average ntr_price_average price_average\n",
       "0  3/25/15          35644,4          31833,34      17718,54\n",
       "1  3/26/15         35563,32          31760,93      17678,23\n",
       "2  3/27/15         35632,59          31822,79      17712,66\n",
       "3  3/30/15         36162,97          32296,47      17976,31\n",
       "4  3/31/15         35766,56          31940,75      17776,12"
      ]
     },
     "execution_count": 232,
     "metadata": {},
     "output_type": "execute_result"
    }
   ],
   "source": [
    "stock.head()"
   ]
  },
  {
   "cell_type": "markdown",
   "metadata": {},
   "source": [
    "We create a new column with the year the current date has."
   ]
  },
  {
   "cell_type": "code",
   "execution_count": 236,
   "metadata": {},
   "outputs": [],
   "source": [
    "stock['year'] = pd.DatetimeIndex(stock['date']).year"
   ]
  },
  {
   "cell_type": "markdown",
   "metadata": {},
   "source": [
    "From when we do have data? "
   ]
  },
  {
   "cell_type": "code",
   "execution_count": 237,
   "metadata": {},
   "outputs": [
    {
     "data": {
      "text/plain": [
       "2015"
      ]
     },
     "execution_count": 237,
     "metadata": {},
     "output_type": "execute_result"
    }
   ],
   "source": [
    "stock[\"year\"].min()"
   ]
  },
  {
   "cell_type": "markdown",
   "metadata": {},
   "source": [
    "To visualize our data, we first convert the price to float."
   ]
  },
  {
   "cell_type": "code",
   "execution_count": 239,
   "metadata": {},
   "outputs": [],
   "source": [
    "stock['price_average'] = pd.to_numeric(stock['price_average'],errors='coerce')\n",
    "stock['price_average'] = stock['price_average'].astype(float)"
   ]
  },
  {
   "cell_type": "code",
   "execution_count": 240,
   "metadata": {},
   "outputs": [
    {
     "data": {
      "image/png": "[encoded data removed]",
      "text/plain": [
       "<Figure size 432x288 with 1 Axes>"
      ]
     },
     "metadata": {
      "needs_background": "light"
     },
     "output_type": "display_data"
    }
   ],
   "source": [
    "_= stock.boxplot(column='price_average', by='year')"
   ]
  },
  {
   "cell_type": "markdown",
   "metadata": {},
   "source": [
    "Pretty good visualization. We can see the increase from each year with little outliers."
   ]
  },
  {
   "cell_type": "markdown",
   "metadata": {},
   "source": [
    "After visualizing the stock dataset, I decided to go and visualize and get correlations from only the crypto one. Here we only have the average price based on date. On crypto dataset, we do have more data for each day, and we can get correlations from Open and Close day, high and low, volume... More completed one. Also, in terms of hypothesis testing, I have in mind to correlate if the volume does have an impact on variation from Open to Close bid. "
   ]
  },
  {
   "cell_type": "markdown",
   "metadata": {},
   "source": [
    "## Statistical analysis"
   ]
  },
  {
   "cell_type": "markdown",
   "metadata": {},
   "source": [
    "Here we are going to go way deeper to visualize crypto columns. Will be they good enough to be able to test our purpose? Let's take a look."
   ]
  },
  {
   "cell_type": "markdown",
   "metadata": {},
   "source": [
    "### How many days passed since minimum price value and maximum one?"
   ]
  },
  {
   "cell_type": "code",
   "execution_count": 241,
   "metadata": {},
   "outputs": [],
   "source": [
    "max_price_date = crypto[\"AveragePrice\"].max()\n",
    "max_row = crypto[crypto[\"AveragePrice\"] == max_price_date].head()"
   ]
  },
  {
   "cell_type": "code",
   "execution_count": 242,
   "metadata": {},
   "outputs": [],
   "source": [
    "min_price_date = crypto[\"AveragePrice\"].min()\n",
    "min_row = crypto[crypto[\"AveragePrice\"] == min_price_date].head()"
   ]
  },
  {
   "cell_type": "code",
   "execution_count": 246,
   "metadata": {},
   "outputs": [
    {
     "name": "stdout",
     "output_type": "stream",
     "text": [
      "Passed 1532 days since minimum price value to highest one.\n"
     ]
    }
   ],
   "source": [
    "d1_min = datetime.datetime(min_row.year,min_row.month,min_row.day)\n",
    "d2_max = datetime.datetime(max_row.year,max_row.month,max_row.day)\n",
    "days_passed = (d2_max-d1_min).days\n",
    "print(f\"Passed {days_passed} days since minimum price value to highest one.\")"
   ]
  },
  {
   "cell_type": "code",
   "execution_count": 248,
   "metadata": {},
   "outputs": [
    {
     "data": {
      "text/html": [
       "<div>\n",
       "<style scoped>\n",
       "    .dataframe tbody tr th:only-of-type {\n",
       "        vertical-align: middle;\n",
       "    }\n",
       "\n",
       "    .dataframe tbody tr th {\n",
       "        vertical-align: top;\n",
       "    }\n",
       "\n",
       "    .dataframe thead th {\n",
       "        text-align: right;\n",
       "    }\n",
       "</style>\n",
       "<table border=\"1\" class=\"dataframe\">\n",
       "  <thead>\n",
       "    <tr style=\"text-align: right;\">\n",
       "      <th></th>\n",
       "      <th>Date</th>\n",
       "      <th>AveragePrice</th>\n",
       "    </tr>\n",
       "  </thead>\n",
       "  <tbody>\n",
       "    <tr>\n",
       "      <td>817</td>\n",
       "      <td>2017-12-17</td>\n",
       "      <td>19113.55</td>\n",
       "    </tr>\n",
       "    <tr>\n",
       "      <td>816</td>\n",
       "      <td>2017-12-18</td>\n",
       "      <td>18793.75</td>\n",
       "    </tr>\n",
       "    <tr>\n",
       "      <td>818</td>\n",
       "      <td>2017-12-16</td>\n",
       "      <td>18421.50</td>\n",
       "    </tr>\n",
       "    <tr>\n",
       "      <td>815</td>\n",
       "      <td>2017-12-19</td>\n",
       "      <td>17835.15</td>\n",
       "    </tr>\n",
       "    <tr>\n",
       "      <td>819</td>\n",
       "      <td>2017-12-15</td>\n",
       "      <td>17136.65</td>\n",
       "    </tr>\n",
       "    <tr>\n",
       "      <td>822</td>\n",
       "      <td>2017-12-12</td>\n",
       "      <td>16800.00</td>\n",
       "    </tr>\n",
       "    <tr>\n",
       "      <td>797</td>\n",
       "      <td>2018-01-06</td>\n",
       "      <td>16706.25</td>\n",
       "    </tr>\n",
       "    <tr>\n",
       "      <td>814</td>\n",
       "      <td>2017-12-20</td>\n",
       "      <td>16612.85</td>\n",
       "    </tr>\n",
       "    <tr>\n",
       "      <td>821</td>\n",
       "      <td>2017-12-13</td>\n",
       "      <td>16458.45</td>\n",
       "    </tr>\n",
       "    <tr>\n",
       "      <td>796</td>\n",
       "      <td>2018-01-07</td>\n",
       "      <td>16382.50</td>\n",
       "    </tr>\n",
       "  </tbody>\n",
       "</table>\n",
       "</div>"
      ],
      "text/plain": [
       "           Date  AveragePrice\n",
       "817  2017-12-17      19113.55\n",
       "816  2017-12-18      18793.75\n",
       "818  2017-12-16      18421.50\n",
       "815  2017-12-19      17835.15\n",
       "819  2017-12-15      17136.65\n",
       "822  2017-12-12      16800.00\n",
       "797  2018-01-06      16706.25\n",
       "814  2017-12-20      16612.85\n",
       "821  2017-12-13      16458.45\n",
       "796  2018-01-07      16382.50"
      ]
     },
     "execution_count": 248,
     "metadata": {},
     "output_type": "execute_result"
    }
   ],
   "source": [
    "crypto[[\"Date\", \"AveragePrice\"]].sort_values('AveragePrice', ascending=False).head(10)"
   ]
  },
  {
   "cell_type": "markdown",
   "metadata": {},
   "source": [
    "Most of highest prices are distributed from late-2017 and early-2018."
   ]
  },
  {
   "cell_type": "code",
   "execution_count": null,
   "metadata": {},
   "outputs": [],
   "source": []
  },
  {
   "cell_type": "markdown",
   "metadata": {},
   "source": [
    "### Visualize distributions"
   ]
  },
  {
   "cell_type": "markdown",
   "metadata": {},
   "source": [
    "You all know price of bitcoin is so volatile so we expect there won't be a normal distribution here."
   ]
  },
  {
   "cell_type": "code",
   "execution_count": 255,
   "metadata": {},
   "outputs": [
    {
     "data": {
      "image/png": "[encoded data removed]",
      "text/plain": [
       "<Figure size 432x288 with 1 Axes>"
      ]
     },
     "metadata": {
      "needs_background": "light"
     },
     "output_type": "display_data"
    }
   ],
   "source": [
    "sns.distplot(crypto['AveragePrice'])\n",
    "plt.show()"
   ]
  },
  {
   "cell_type": "markdown",
   "metadata": {},
   "source": [
    "As expected, there is a huge amount of values distributed from 0 to 1000."
   ]
  },
  {
   "cell_type": "markdown",
   "metadata": {},
   "source": [
    "Now we are going to visualize a box plot based on the year."
   ]
  },
  {
   "cell_type": "code",
   "execution_count": 256,
   "metadata": {},
   "outputs": [
    {
     "data": {
      "image/png": "[encoded data removed]",
      "text/plain": [
       "<Figure size 432x288 with 1 Axes>"
      ]
     },
     "metadata": {
      "needs_background": "light"
     },
     "output_type": "display_data"
    }
   ],
   "source": [
    "sns.boxplot(x='year', y ='AveragePrice', data=crypto)\n",
    "plt.show()"
   ]
  },
  {
   "cell_type": "markdown",
   "metadata": {},
   "source": [
    "🤯. 2017 was a crazy year with many outliers. We can see a way better distribution in 2019. Let's separate 2013-2016 to 2017 - 2010 distributions as we can not visualize it good enough here."
   ]
  },
  {
   "cell_type": "code",
   "execution_count": 259,
   "metadata": {},
   "outputs": [
    {
     "data": {
      "image/png": "[encoded data removed]",
      "text/plain": [
       "<Figure size 432x288 with 1 Axes>"
      ]
     },
     "metadata": {
      "needs_background": "light"
     },
     "output_type": "display_data"
    }
   ],
   "source": [
    "sns.boxplot(x='year', y ='AveragePrice', data=crypto[crypto[\"year\"] < 2017])\n",
    "plt.show()"
   ]
  },
  {
   "cell_type": "markdown",
   "metadata": {},
   "source": [
    "Good! 2015 was a year with no volatilty but with many outliers. Let's see now only 2017-2020 distributions."
   ]
  },
  {
   "cell_type": "code",
   "execution_count": 261,
   "metadata": {},
   "outputs": [
    {
     "data": {
      "image/png": "[encoded data removed]",
      "text/plain": [
       "<Figure size 432x288 with 1 Axes>"
      ]
     },
     "metadata": {
      "needs_background": "light"
     },
     "output_type": "display_data"
    }
   ],
   "source": [
    "sns.boxplot(x='year', y ='AveragePrice', data=crypto[crypto[\"year\"] >= 2017])\n",
    "plt.show()"
   ]
  },
  {
   "cell_type": "markdown",
   "metadata": {},
   "source": [
    "Still, 2017 and 2018 were years with many outliers and huge volatility. We are going to visualize now only volume."
   ]
  },
  {
   "cell_type": "code",
   "execution_count": 262,
   "metadata": {},
   "outputs": [
    {
     "data": {
      "image/png": "[encoded data removed]",
      "text/plain": [
       "<Figure size 432x288 with 1 Axes>"
      ]
     },
     "metadata": {
      "needs_background": "light"
     },
     "output_type": "display_data"
    }
   ],
   "source": [
    "sns.distplot(crypto['Volume USD'])\n",
    "plt.show()"
   ]
  },
  {
   "cell_type": "markdown",
   "metadata": {},
   "source": [
    "Interesting.. we got two similar distributions. Fat-tailed ones."
   ]
  },
  {
   "cell_type": "code",
   "execution_count": 263,
   "metadata": {},
   "outputs": [
    {
     "data": {
      "image/png": "[encoded data removed]",
      "text/plain": [
       "<Figure size 432x288 with 1 Axes>"
      ]
     },
     "metadata": {
      "needs_background": "light"
     },
     "output_type": "display_data"
    }
   ],
   "source": [
    "sns.boxplot(x='year', y ='Volume USD', data=crypto)\n",
    "plt.show()"
   ]
  },
  {
   "cell_type": "markdown",
   "metadata": {},
   "source": [
    "Same as before, but in terms of outliers, 2019 won the spot. We need to adjust first. We are going to visualize a distribution for 2019 and maximum $1.5B of volume."
   ]
  },
  {
   "cell_type": "code",
   "execution_count": 265,
   "metadata": {},
   "outputs": [
    {
     "data": {
      "text/plain": [
       "<matplotlib.axes._subplots.AxesSubplot at 0x1a2e4d11d0>"
      ]
     },
     "execution_count": 265,
     "metadata": {},
     "output_type": "execute_result"
    },
    {
     "data": {
      "image/png": "[encoded data removed]",
      "text/plain": [
       "<Figure size 432x288 with 1 Axes>"
      ]
     },
     "metadata": {
      "needs_background": "light"
     },
     "output_type": "display_data"
    }
   ],
   "source": [
    "sns.distplot(crypto[(crypto[\"year\"] == 2019) & (crypto[\"Volume USD\"] < 150000000)][\"AveragePrice\"])"
   ]
  },
  {
   "cell_type": "code",
   "execution_count": 324,
   "metadata": {},
   "outputs": [],
   "source": [
    "def percentile_value_price(group, percentile):\n",
    "    return np.percentile(group[\"AveragePrice\"], percentile)\n",
    "\n",
    "def percentile_value_volume(group, percentile):\n",
    "    return np.percentile(group[\"Volume USD\"], percentile)"
   ]
  },
  {
   "cell_type": "markdown",
   "metadata": {},
   "source": [
    "### Percentile: Price vs Year."
   ]
  },
  {
   "cell_type": "code",
   "execution_count": 333,
   "metadata": {},
   "outputs": [
    {
     "name": "stdout",
     "output_type": "stream",
     "text": [
      "Year 2013 and quartile 25 = 189.805\n",
      "Year 2013 and mean = 541.0\n",
      "Year 2013 and quartile 75 = 773.7574999999999\n",
      "Year 2013 and quartile 90 = 954.7760000000001\n",
      "-------\n",
      "Year 2014 and quartile 25 = 397.0\n",
      "Year 2014 and mean = 511.5\n",
      "Year 2014 and quartile 75 = 621.965\n",
      "Year 2014 and quartile 90 = 737.1900000000005\n",
      "-------\n",
      "Year 2015 and quartile 25 = 234.49\n",
      "Year 2015 and mean = 248.32999999999998\n",
      "Year 2015 and quartile 75 = 285.005\n",
      "Year 2015 and quartile 90 = 363.28000000000003\n",
      "-------\n",
      "Year 2016 and quartile 25 = 429.70874999999995\n",
      "Year 2016 and mean = 582.6775\n",
      "Year 2016 and quartile 75 = 663.52125\n",
      "Year 2016 and quartile 90 = 743.3625\n",
      "-------\n",
      "Year 2017 and quartile 25 = 1192.155\n",
      "Year 2017 and mean = 2558.165\n",
      "Year 2017 and quartile 75 = 4511.1\n",
      "Year 2017 and quartile 90 = 8304.210000000005\n",
      "-------\n",
      "Year 2018 and quartile 25 = 6367.15\n",
      "Year 2018 and mean = 6904.45\n",
      "Year 2018 and quartile 75 = 8586.3\n",
      "Year 2018 and quartile 90 = 10705.400000000001\n",
      "-------\n",
      "Year 2019 and quartile 25 = 5099.05\n",
      "Year 2019 and mean = 7922.9\n",
      "Year 2019 and quartile 75 = 9613.55\n",
      "Year 2019 and quartile 90 = 10598.34\n",
      "-------\n",
      "Year 2020 and quartile 25 = 7896.799999999999\n",
      "Year 2020 and mean = 8712.8\n",
      "Year 2020 and quartile 75 = 9417.5\n",
      "Year 2020 and quartile 90 = 9842.16\n",
      "-------\n"
     ]
    }
   ],
   "source": [
    "for year, group in crypto.groupby(['year']):\n",
    "    print(f\"Year {year} and quartile 25 = {percentile_value_price(group, 25)}\")\n",
    "    print(f\"Year {year} and mean = {percentile_value_price(group, 50)}\")\n",
    "    print(f\"Year {year} and quartile 75 = {percentile_value_price(group, 75)}\")\n",
    "    print(f\"Year {year} and quartile 90 = {percentile_value_price(group, 90)}\")\n",
    "    print(\"-------\")"
   ]
  },
  {
   "cell_type": "markdown",
   "metadata": {},
   "source": [
    "### Percentile: Volume vs Year."
   ]
  },
  {
   "cell_type": "code",
   "execution_count": 334,
   "metadata": {},
   "outputs": [
    {
     "name": "stdout",
     "output_type": "stream",
     "text": [
      "Year 2013 and quartile 25 = 2893.69\n",
      "Year 2013 and mean = 10535.84\n",
      "Year 2013 and quartile 75 = 32768.24\n",
      "Year 2013 and quartile 90 = 47496.308000000005\n",
      "-------\n",
      "Year 2014 and quartile 25 = 1322.88\n",
      "Year 2014 and mean = 3757.03\n",
      "Year 2014 and quartile 75 = 9667.69\n",
      "Year 2014 and quartile 90 = 19618.652000000002\n",
      "-------\n",
      "Year 2015 and quartile 25 = 3642.55\n",
      "Year 2015 and mean = 10099.44\n",
      "Year 2015 and quartile 75 = 26486.71\n",
      "Year 2015 and quartile 90 = 61438.22400000002\n",
      "-------\n",
      "Year 2016 and quartile 25 = 314132.97750000004\n",
      "Year 2016 and mean = 538370.085\n",
      "Year 2016 and quartile 75 = 853569.7875\n",
      "Year 2016 and quartile 90 = 1531952.785\n",
      "-------\n",
      "Year 2017 and quartile 25 = 3595097.32\n",
      "Year 2017 and mean = 15844622.6\n",
      "Year 2017 and quartile 75 = 25369950.38\n",
      "Year 2017 and quartile 90 = 46201708.21200001\n",
      "-------\n",
      "Year 2018 and quartile 25 = 20822707.48\n",
      "Year 2018 and mean = 35344075.9\n",
      "Year 2018 and quartile 75 = 60523770.56\n",
      "Year 2018 and quartile 90 = 91881661.36000001\n",
      "-------\n",
      "Year 2019 and quartile 25 = 20759934.95\n",
      "Year 2019 and mean = 36067899.79\n",
      "Year 2019 and quartile 75 = 61030967.77\n",
      "Year 2019 and quartile 90 = 98081870.15400001\n",
      "-------\n",
      "Year 2020 and quartile 25 = 33339428.37\n",
      "Year 2020 and mean = 46796546.19\n",
      "Year 2020 and quartile 75 = 71581677.86\n",
      "Year 2020 and quartile 90 = 97735362.57200006\n",
      "-------\n"
     ]
    }
   ],
   "source": [
    "for year, group in crypto.groupby(['year']):\n",
    "    print(f\"Year {year} and quartile 25 = {percentile_value_volume(group, 25)}\")\n",
    "    print(f\"Year {year} and mean = {percentile_value_volume(group, 50)}\")\n",
    "    print(f\"Year {year} and quartile 75 = {percentile_value_volume(group, 75)}\")\n",
    "    print(f\"Year {year} and quartile 90 = {percentile_value_volume(group, 90)}\")\n",
    "    print(\"-------\")"
   ]
  },
  {
   "cell_type": "markdown",
   "metadata": {},
   "source": [
    "We are going to finalize our visualization showing a distplot from averagePrices more than 1000 and less than 13000."
   ]
  },
  {
   "cell_type": "code",
   "execution_count": 336,
   "metadata": {},
   "outputs": [
    {
     "data": {
      "text/plain": [
       "<matplotlib.axes._subplots.AxesSubplot at 0x1a2bbddd50>"
      ]
     },
     "execution_count": 336,
     "metadata": {},
     "output_type": "execute_result"
    },
    {
     "data": {
      "image/png": "[encoded data removed]",
      "text/plain": [
       "<Figure size 432x288 with 1 Axes>"
      ]
     },
     "metadata": {
      "needs_background": "light"
     },
     "output_type": "display_data"
    }
   ],
   "source": [
    "sns.distplot(crypto[(crypto['AveragePrice'] > 1000) & (crypto['AveragePrice'] < 13000)][\"AveragePrice\"])"
   ]
  },
  {
   "cell_type": "markdown",
   "metadata": {},
   "source": [
    "It looks like a normal distribution now."
   ]
  },
  {
   "cell_type": "markdown",
   "metadata": {},
   "source": [
    "### Correlations"
   ]
  },
  {
   "cell_type": "markdown",
   "metadata": {},
   "source": [
    "It's time now to see the correlations from each column. We can detect there will be many correlations as the price only variens in a timeframe of hours."
   ]
  },
  {
   "cell_type": "code",
   "execution_count": 338,
   "metadata": {},
   "outputs": [
    {
     "data": {
      "text/html": [
       "<div>\n",
       "<style scoped>\n",
       "    .dataframe tbody tr th:only-of-type {\n",
       "        vertical-align: middle;\n",
       "    }\n",
       "\n",
       "    .dataframe tbody tr th {\n",
       "        vertical-align: top;\n",
       "    }\n",
       "\n",
       "    .dataframe thead th {\n",
       "        text-align: right;\n",
       "    }\n",
       "</style>\n",
       "<table border=\"1\" class=\"dataframe\">\n",
       "  <thead>\n",
       "    <tr style=\"text-align: right;\">\n",
       "      <th></th>\n",
       "      <th>Open</th>\n",
       "      <th>High</th>\n",
       "      <th>Low</th>\n",
       "      <th>Close</th>\n",
       "      <th>Volume BTC</th>\n",
       "      <th>Volume USD</th>\n",
       "      <th>year</th>\n",
       "      <th>month</th>\n",
       "      <th>day</th>\n",
       "      <th>AveragePrice</th>\n",
       "    </tr>\n",
       "  </thead>\n",
       "  <tbody>\n",
       "    <tr>\n",
       "      <td>Open</td>\n",
       "      <td>1.000000</td>\n",
       "      <td>0.998845</td>\n",
       "      <td>0.998037</td>\n",
       "      <td>0.997815</td>\n",
       "      <td>0.535917</td>\n",
       "      <td>0.737333</td>\n",
       "      <td>0.767229</td>\n",
       "      <td>0.019395</td>\n",
       "      <td>-0.005428</td>\n",
       "      <td>0.999089</td>\n",
       "    </tr>\n",
       "    <tr>\n",
       "      <td>High</td>\n",
       "      <td>0.998845</td>\n",
       "      <td>1.000000</td>\n",
       "      <td>0.997466</td>\n",
       "      <td>0.998952</td>\n",
       "      <td>0.546265</td>\n",
       "      <td>0.748373</td>\n",
       "      <td>0.762856</td>\n",
       "      <td>0.019811</td>\n",
       "      <td>-0.005044</td>\n",
       "      <td>0.999414</td>\n",
       "    </tr>\n",
       "    <tr>\n",
       "      <td>Low</td>\n",
       "      <td>0.998037</td>\n",
       "      <td>0.997466</td>\n",
       "      <td>1.000000</td>\n",
       "      <td>0.998768</td>\n",
       "      <td>0.520906</td>\n",
       "      <td>0.720819</td>\n",
       "      <td>0.773902</td>\n",
       "      <td>0.021529</td>\n",
       "      <td>-0.006970</td>\n",
       "      <td>0.999317</td>\n",
       "    </tr>\n",
       "    <tr>\n",
       "      <td>Close</td>\n",
       "      <td>0.997815</td>\n",
       "      <td>0.998952</td>\n",
       "      <td>0.998768</td>\n",
       "      <td>1.000000</td>\n",
       "      <td>0.533154</td>\n",
       "      <td>0.734400</td>\n",
       "      <td>0.767197</td>\n",
       "      <td>0.020884</td>\n",
       "      <td>-0.006767</td>\n",
       "      <td>0.999496</td>\n",
       "    </tr>\n",
       "    <tr>\n",
       "      <td>Volume BTC</td>\n",
       "      <td>0.535917</td>\n",
       "      <td>0.546265</td>\n",
       "      <td>0.520906</td>\n",
       "      <td>0.533154</td>\n",
       "      <td>1.000000</td>\n",
       "      <td>0.869827</td>\n",
       "      <td>0.634558</td>\n",
       "      <td>-0.075676</td>\n",
       "      <td>0.011623</td>\n",
       "      <td>0.534412</td>\n",
       "    </tr>\n",
       "  </tbody>\n",
       "</table>\n",
       "</div>"
      ],
      "text/plain": [
       "                Open      High       Low     Close  Volume BTC  Volume USD  \\\n",
       "Open        1.000000  0.998845  0.998037  0.997815    0.535917    0.737333   \n",
       "High        0.998845  1.000000  0.997466  0.998952    0.546265    0.748373   \n",
       "Low         0.998037  0.997466  1.000000  0.998768    0.520906    0.720819   \n",
       "Close       0.997815  0.998952  0.998768  1.000000    0.533154    0.734400   \n",
       "Volume BTC  0.535917  0.546265  0.520906  0.533154    1.000000    0.869827   \n",
       "\n",
       "                year     month       day  AveragePrice  \n",
       "Open        0.767229  0.019395 -0.005428      0.999089  \n",
       "High        0.762856  0.019811 -0.005044      0.999414  \n",
       "Low         0.773902  0.021529 -0.006970      0.999317  \n",
       "Close       0.767197  0.020884 -0.006767      0.999496  \n",
       "Volume BTC  0.634558 -0.075676  0.011623      0.534412  "
      ]
     },
     "execution_count": 338,
     "metadata": {},
     "output_type": "execute_result"
    }
   ],
   "source": [
    "correlations = crypto.corr()\n",
    "correlations.head()"
   ]
  },
  {
   "cell_type": "markdown",
   "metadata": {},
   "source": [
    "Nice! We can see way correlations here. Let's see some of them individually."
   ]
  },
  {
   "cell_type": "code",
   "execution_count": 339,
   "metadata": {},
   "outputs": [
    {
     "data": {
      "text/plain": [
       "Open            0.998037\n",
       "High            0.997466\n",
       "Low             1.000000\n",
       "Close           0.998768\n",
       "Volume BTC      0.520906\n",
       "Volume USD      0.720819\n",
       "year            0.773902\n",
       "month           0.021529\n",
       "day            -0.006970\n",
       "AveragePrice    0.999317\n",
       "Name: Low, dtype: float64"
      ]
     },
     "execution_count": 339,
     "metadata": {},
     "output_type": "execute_result"
    }
   ],
   "source": [
    "correlations[\"Low\"]"
   ]
  },
  {
   "cell_type": "markdown",
   "metadata": {},
   "source": [
    "Makes sense, right? Low has a huge correlation with Open and High price value. Also in terms of USD Volume. Quite good the correlation the price value has against the year. Let's visualize them on a heatmap."
   ]
  },
  {
   "cell_type": "code",
   "execution_count": 340,
   "metadata": {},
   "outputs": [
    {
     "data": {
      "text/plain": [
       "<matplotlib.axes._subplots.AxesSubplot at 0x1a2c506ed0>"
      ]
     },
     "execution_count": 340,
     "metadata": {},
     "output_type": "execute_result"
    },
    {
     "data": {
      "image/png": "[encoded data removed]",
      "text/plain": [
       "<Figure size 1080x720 with 2 Axes>"
      ]
     },
     "metadata": {
      "needs_background": "light"
     },
     "output_type": "display_data"
    }
   ],
   "source": [
    "fig, ax = plt.subplots(figsize=(15, 10)) \n",
    "sns.heatmap(correlations, xticklabels=correlations.columns, yticklabels=correlations.columns, annot=True)"
   ]
  },
  {
   "cell_type": "markdown",
   "metadata": {},
   "source": [
    "🤩 Beautiful! Nice to see that light theme color on the heatmap, it means we do have quite correlations here."
   ]
  },
  {
   "cell_type": "code",
   "execution_count": 184,
   "metadata": {},
   "outputs": [
    {
     "data": {
      "text/plain": [
       "<matplotlib.axes._subplots.AxesSubplot at 0x1a2f4b5ad0>"
      ]
     },
     "execution_count": 184,
     "metadata": {},
     "output_type": "execute_result"
    },
    {
     "data": {
      "image/png": "[encoded data removed]",
      "text/plain": [
       "<Figure size 432x288 with 1 Axes>"
      ]
     },
     "metadata": {
      "needs_background": "light"
     },
     "output_type": "display_data"
    }
   ],
   "source": [
    "sns.scatterplot(crypto['Open'], crypto['Close'])"
   ]
  },
  {
   "cell_type": "markdown",
   "metadata": {},
   "source": [
    "Almost linear! But as price increases, there is more variety between Open and Close price value."
   ]
  },
  {
   "cell_type": "code",
   "execution_count": 341,
   "metadata": {},
   "outputs": [
    {
     "data": {
      "text/plain": [
       "<matplotlib.axes._subplots.AxesSubplot at 0x1a2f948ad0>"
      ]
     },
     "execution_count": 341,
     "metadata": {},
     "output_type": "execute_result"
    },
    {
     "data": {
      "image/png": "[encoded data removed]",
      "text/plain": [
       "<Figure size 432x288 with 1 Axes>"
      ]
     },
     "metadata": {
      "needs_background": "light"
     },
     "output_type": "display_data"
    }
   ],
   "source": [
    "sns.barplot(x='year',y='AveragePrice', data=crypto)"
   ]
  },
  {
   "cell_type": "markdown",
   "metadata": {},
   "source": [
    "As we visualized before, there is an inflexion point from 2017 to now."
   ]
  },
  {
   "cell_type": "markdown",
   "metadata": {},
   "source": [
    "Time to visualize together increment from High to Low. "
   ]
  },
  {
   "cell_type": "code",
   "execution_count": 194,
   "metadata": {},
   "outputs": [
    {
     "data": {
      "text/plain": [
       "<matplotlib.axes._subplots.AxesSubplot at 0x1a3313de50>"
      ]
     },
     "execution_count": 194,
     "metadata": {},
     "output_type": "execute_result"
    },
    {
     "data": {
      "image/png": "[encoded data removed]",
      "text/plain": [
       "<Figure size 432x288 with 1 Axes>"
      ]
     },
     "metadata": {
      "needs_background": "light"
     },
     "output_type": "display_data"
    }
   ],
   "source": [
    "sns.pointplot(x=\"year\", y=\"High\", data=crypto)\n",
    "sns.pointplot(x=\"year\", y=\"Low\", data=crypto)"
   ]
  },
  {
   "cell_type": "markdown",
   "metadata": {},
   "source": [
    "As volatility skyrocket since 2017, also the difference between high price value against low one per day."
   ]
  },
  {
   "cell_type": "markdown",
   "metadata": {},
   "source": [
    "## Hypothesis testing"
   ]
  },
  {
   "cell_type": "markdown",
   "metadata": {},
   "source": [
    "We got some insights from the crypto dataset.\n",
    "- 2017 was a terrific year in terms of volatibility.\n",
    "- In terms of volume, 2019 got some days which increased a lot (More than 3B where average is 1B).\n",
    "- High and Low price per day is more volatile on last years. "
   ]
  },
  {
   "cell_type": "markdown",
   "metadata": {},
   "source": [
    "For this reason, we are going to test if Volume is important in terms of price variation."
   ]
  },
  {
   "cell_type": "code",
   "execution_count": 345,
   "metadata": {},
   "outputs": [
    {
     "data": {
      "text/plain": [
       "(29.63445653553548, 2.9827675511696148e-164)"
      ]
     },
     "execution_count": 345,
     "metadata": {},
     "output_type": "execute_result"
    }
   ],
   "source": [
    "ttest, pval = sp.stats.ttest_rel(crypto[\"Volume USD\"], crypto[\"AveragePrice\"])\n",
    "ttest, pval"
   ]
  },
  {
   "cell_type": "code",
   "execution_count": 346,
   "metadata": {},
   "outputs": [],
   "source": [
    "# H0 - Volume does not have an impact on price.\n",
    "# H1 - Volue does have an impact on price."
   ]
  },
  {
   "cell_type": "markdown",
   "metadata": {},
   "source": [
    "We reject our h0 as pvalue is less than our alpha 0.05."
   ]
  },
  {
   "cell_type": "markdown",
   "metadata": {},
   "source": [
    "## Bibliography"
   ]
  },
  {
   "cell_type": "markdown",
   "metadata": {},
   "source": [
    "Source from where we got our data: \n",
    "- https://www.cryptodatadownload.com/data/kraken/\n",
    "- https://us.spindices.com/indices/equity/dow-jones-industrial-average"
   ]
  }
 ],
 "metadata": {
  "kernelspec": {
   "display_name": "Python 3",
   "language": "python",
   "name": "python3"
  },
  "language_info": {
   "codemirror_mode": {
    "name": "ipython",
    "version": 3
   },
   "file_extension": ".py",
   "mimetype": "text/x-python",
   "name": "python",
   "nbconvert_exporter": "python",
   "pygments_lexer": "ipython3",
   "version": "3.7.4"
  }
 },
 "nbformat": 4,
 "nbformat_minor": 2
}
