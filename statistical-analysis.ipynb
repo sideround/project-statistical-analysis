{
 "cells": [
  {
   "cell_type": "markdown",
   "metadata": {},
   "source": [
    "## Imports"
   ]
  },
  {
   "cell_type": "code",
   "execution_count": 78,
   "metadata": {},
   "outputs": [],
   "source": [
    "import pandas as pd\n",
    "import numpy as np"
   ]
  },
  {
   "cell_type": "markdown",
   "metadata": {},
   "source": [
    "## Introduction"
   ]
  },
  {
   "cell_type": "code",
   "execution_count": null,
   "metadata": {},
   "outputs": [],
   "source": []
  },
  {
   "cell_type": "markdown",
   "metadata": {},
   "source": [
    "## Explore Data"
   ]
  },
  {
   "cell_type": "markdown",
   "metadata": {},
   "source": []
  },
  {
   "cell_type": "markdown",
   "metadata": {},
   "source": []
  },
  {
   "cell_type": "markdown",
   "metadata": {},
   "source": []
  },
  {
   "cell_type": "markdown",
   "metadata": {},
   "source": [
    "## Examine Relations"
   ]
  },
  {
   "cell_type": "code",
   "execution_count": null,
   "metadata": {},
   "outputs": [],
   "source": []
  },
  {
   "cell_type": "code",
   "execution_count": 79,
   "metadata": {},
   "outputs": [],
   "source": [
    "dow = \"data/dow_jones_indices.csv\""
   ]
  },
  {
   "cell_type": "code",
   "execution_count": 80,
   "metadata": {},
   "outputs": [],
   "source": [
    "x = pd.read_csv(dow, sep=\";\")"
   ]
  },
  {
   "cell_type": "code",
   "execution_count": 81,
   "metadata": {},
   "outputs": [
    {
     "data": {
      "text/html": [
       "<div>\n",
       "<style scoped>\n",
       "    .dataframe tbody tr th:only-of-type {\n",
       "        vertical-align: middle;\n",
       "    }\n",
       "\n",
       "    .dataframe tbody tr th {\n",
       "        vertical-align: top;\n",
       "    }\n",
       "\n",
       "    .dataframe thead th {\n",
       "        text-align: right;\n",
       "    }\n",
       "</style>\n",
       "<table border=\"1\" class=\"dataframe\">\n",
       "  <thead>\n",
       "    <tr style=\"text-align: right;\">\n",
       "      <th></th>\n",
       "      <th>Date</th>\n",
       "      <th>Dow Jones Industrial Average TR</th>\n",
       "      <th>Dow Jones Industrial Average NTR</th>\n",
       "      <th>Dow Jones Industrial Average</th>\n",
       "    </tr>\n",
       "  </thead>\n",
       "  <tbody>\n",
       "    <tr>\n",
       "      <td>0</td>\n",
       "      <td>3/25/15</td>\n",
       "      <td>35644,4</td>\n",
       "      <td>31833,34</td>\n",
       "      <td>17718,54</td>\n",
       "    </tr>\n",
       "    <tr>\n",
       "      <td>1</td>\n",
       "      <td>3/26/15</td>\n",
       "      <td>35563,32</td>\n",
       "      <td>31760,93</td>\n",
       "      <td>17678,23</td>\n",
       "    </tr>\n",
       "    <tr>\n",
       "      <td>2</td>\n",
       "      <td>3/27/15</td>\n",
       "      <td>35632,59</td>\n",
       "      <td>31822,79</td>\n",
       "      <td>17712,66</td>\n",
       "    </tr>\n",
       "    <tr>\n",
       "      <td>3</td>\n",
       "      <td>3/30/15</td>\n",
       "      <td>36162,97</td>\n",
       "      <td>32296,47</td>\n",
       "      <td>17976,31</td>\n",
       "    </tr>\n",
       "    <tr>\n",
       "      <td>4</td>\n",
       "      <td>3/31/15</td>\n",
       "      <td>35766,56</td>\n",
       "      <td>31940,75</td>\n",
       "      <td>17776,12</td>\n",
       "    </tr>\n",
       "  </tbody>\n",
       "</table>\n",
       "</div>"
      ],
      "text/plain": [
       "      Date Dow Jones Industrial Average TR Dow Jones Industrial Average NTR  \\\n",
       "0  3/25/15                         35644,4                         31833,34   \n",
       "1  3/26/15                        35563,32                         31760,93   \n",
       "2  3/27/15                        35632,59                         31822,79   \n",
       "3  3/30/15                        36162,97                         32296,47   \n",
       "4  3/31/15                        35766,56                         31940,75   \n",
       "\n",
       "  Dow Jones Industrial Average  \n",
       "0                     17718,54  \n",
       "1                     17678,23  \n",
       "2                     17712,66  \n",
       "3                     17976,31  \n",
       "4                     17776,12  "
      ]
     },
     "execution_count": 81,
     "metadata": {},
     "output_type": "execute_result"
    }
   ],
   "source": [
    "x.head()"
   ]
  },
  {
   "cell_type": "code",
   "execution_count": null,
   "metadata": {},
   "outputs": [],
   "source": []
  },
  {
   "cell_type": "markdown",
   "metadata": {},
   "source": [
    "TR = Total Return\n",
    "NTR = Net Total Return"
   ]
  },
  {
   "cell_type": "code",
   "execution_count": 48,
   "metadata": {},
   "outputs": [],
   "source": [
    "btc = \"data/bitcoin_prices.csv\""
   ]
  },
  {
   "cell_type": "code",
   "execution_count": 51,
   "metadata": {},
   "outputs": [],
   "source": [
    "y = pd.read_csv(btc, sep=\";\")"
   ]
  },
  {
   "cell_type": "code",
   "execution_count": 54,
   "metadata": {},
   "outputs": [
    {
     "data": {
      "text/html": [
       "<div>\n",
       "<style scoped>\n",
       "    .dataframe tbody tr th:only-of-type {\n",
       "        vertical-align: middle;\n",
       "    }\n",
       "\n",
       "    .dataframe tbody tr th {\n",
       "        vertical-align: top;\n",
       "    }\n",
       "\n",
       "    .dataframe thead th {\n",
       "        text-align: right;\n",
       "    }\n",
       "</style>\n",
       "<table border=\"1\" class=\"dataframe\">\n",
       "  <thead>\n",
       "    <tr style=\"text-align: right;\">\n",
       "      <th></th>\n",
       "      <th>Date</th>\n",
       "      <th>Symbol</th>\n",
       "      <th>Open</th>\n",
       "      <th>High</th>\n",
       "      <th>Low</th>\n",
       "      <th>Close</th>\n",
       "      <th>Volume BTC</th>\n",
       "      <th>Volume USD</th>\n",
       "    </tr>\n",
       "  </thead>\n",
       "  <tbody>\n",
       "    <tr>\n",
       "      <td>0</td>\n",
       "      <td>2020-03-25</td>\n",
       "      <td>BTCUSD</td>\n",
       "      <td>6769.0</td>\n",
       "      <td>6769.0</td>\n",
       "      <td>6533.0</td>\n",
       "      <td>6721.5</td>\n",
       "      <td>2070.93</td>\n",
       "      <td>1.376608e+07</td>\n",
       "    </tr>\n",
       "    <tr>\n",
       "      <td>1</td>\n",
       "      <td>2020-03-24</td>\n",
       "      <td>BTCUSD</td>\n",
       "      <td>6505.1</td>\n",
       "      <td>6875.0</td>\n",
       "      <td>6404.0</td>\n",
       "      <td>6769.0</td>\n",
       "      <td>15188.15</td>\n",
       "      <td>1.009810e+08</td>\n",
       "    </tr>\n",
       "    <tr>\n",
       "      <td>2</td>\n",
       "      <td>2020-03-23</td>\n",
       "      <td>BTCUSD</td>\n",
       "      <td>5825.5</td>\n",
       "      <td>6615.0</td>\n",
       "      <td>5688.1</td>\n",
       "      <td>6505.1</td>\n",
       "      <td>16492.58</td>\n",
       "      <td>1.023196e+08</td>\n",
       "    </tr>\n",
       "    <tr>\n",
       "      <td>3</td>\n",
       "      <td>2020-03-22</td>\n",
       "      <td>BTCUSD</td>\n",
       "      <td>6196.3</td>\n",
       "      <td>6419.9</td>\n",
       "      <td>5748.7</td>\n",
       "      <td>5825.5</td>\n",
       "      <td>11834.26</td>\n",
       "      <td>7.158168e+07</td>\n",
       "    </tr>\n",
       "    <tr>\n",
       "      <td>4</td>\n",
       "      <td>2020-03-21</td>\n",
       "      <td>BTCUSD</td>\n",
       "      <td>6206.8</td>\n",
       "      <td>6469.9</td>\n",
       "      <td>5850.0</td>\n",
       "      <td>6196.3</td>\n",
       "      <td>11088.62</td>\n",
       "      <td>6.856397e+07</td>\n",
       "    </tr>\n",
       "  </tbody>\n",
       "</table>\n",
       "</div>"
      ],
      "text/plain": [
       "         Date  Symbol    Open    High     Low   Close  Volume BTC  \\\n",
       "0  2020-03-25  BTCUSD  6769.0  6769.0  6533.0  6721.5     2070.93   \n",
       "1  2020-03-24  BTCUSD  6505.1  6875.0  6404.0  6769.0    15188.15   \n",
       "2  2020-03-23  BTCUSD  5825.5  6615.0  5688.1  6505.1    16492.58   \n",
       "3  2020-03-22  BTCUSD  6196.3  6419.9  5748.7  5825.5    11834.26   \n",
       "4  2020-03-21  BTCUSD  6206.8  6469.9  5850.0  6196.3    11088.62   \n",
       "\n",
       "     Volume USD  \n",
       "0  1.376608e+07  \n",
       "1  1.009810e+08  \n",
       "2  1.023196e+08  \n",
       "3  7.158168e+07  \n",
       "4  6.856397e+07  "
      ]
     },
     "execution_count": 54,
     "metadata": {},
     "output_type": "execute_result"
    }
   ],
   "source": [
    "y.head()"
   ]
  },
  {
   "cell_type": "markdown",
   "metadata": {},
   "source": [
    "## Bibliography"
   ]
  },
  {
   "cell_type": "markdown",
   "metadata": {},
   "source": [
    "Source from where we downloaded our data: \n",
    "- https://www.cryptodatadownload.com/data/kraken/\n",
    "- https://us.spindices.com/indices/equity/dow-jones-industrial-average"
   ]
  }
 ],
 "metadata": {
  "kernelspec": {
   "display_name": "Python 3",
   "language": "python",
   "name": "python3"
  },
  "language_info": {
   "codemirror_mode": {
    "name": "ipython",
    "version": 3
   },
   "file_extension": ".py",
   "mimetype": "text/x-python",
   "name": "python",
   "nbconvert_exporter": "python",
   "pygments_lexer": "ipython3",
   "version": "3.7.4"
  }
 },
 "nbformat": 4,
 "nbformat_minor": 2
}
